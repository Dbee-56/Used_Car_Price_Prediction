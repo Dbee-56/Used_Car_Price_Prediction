{
 "cells": [
  {
   "cell_type": "code",
   "execution_count": 1,
   "id": "2b37b112",
   "metadata": {},
   "outputs": [
    {
     "name": "stdout",
     "output_type": "stream",
     "text": [
      " * Serving Flask app \"__main__\" (lazy loading)\n",
      " * Environment: production\n",
      "\u001b[31m   WARNING: This is a development server. Do not use it in a production deployment.\u001b[0m\n",
      "\u001b[2m   Use a production WSGI server instead.\u001b[0m\n",
      " * Debug mode: on\n"
     ]
    },
    {
     "name": "stderr",
     "output_type": "stream",
     "text": [
      " * Running on http://127.0.0.1:5000/ (Press CTRL+C to quit)\n",
      "127.0.0.1 - - [14/Aug/2023 20:44:16] \"OPTIONS /predict HTTP/1.1\" 200 -\n"
     ]
    },
    {
     "name": "stdout",
     "output_type": "stream",
     "text": [
      "{'Location': 'Mumbai', 'Year': '2010', 'Kilometers_Driven': '72000', 'Fuel_Type': 'Petrol', 'Transmission': 'Manual', 'Engine': '998.0 CC', 'Power': '58.16 bhp', 'Company_name': 'Maruti', 'Mileage': '33.22', 'price': '12'}\n",
      "  Location  Year  Kilometers_Driven  Fuel_Type  Transmission  Engine  Power  \\\n",
      "0   Mumbai  2010              72000          3             1   998.0  58.16   \n",
      "\n",
      "  Company_name Mileage  price Eng_unit Pow_unit  Mil_in_kmpl  \n",
      "0       Maruti   33.22   12.0       CC      bhp        33.22  \n",
      "   Location  Year  Kilometers_Driven  Fuel_Type  Transmission  Engine  Power  \\\n",
      "0         0  2010              72000          3             1   998.0  58.16   \n",
      "\n",
      "   Company_name  Mileage  price  Eng_unit  Pow_unit  Mil_in_kmpl  \n",
      "0             0        0   12.0         0         0        33.22  \n"
     ]
    },
    {
     "name": "stderr",
     "output_type": "stream",
     "text": [
      "127.0.0.1 - - [14/Aug/2023 20:44:20] \"POST /predict HTTP/1.1\" 200 -\n",
      "127.0.0.1 - - [14/Aug/2023 20:45:16] \"OPTIONS /predict HTTP/1.1\" 200 -\n",
      "127.0.0.1 - - [14/Aug/2023 20:45:16] \"POST /predict HTTP/1.1\" 200 -\n"
     ]
    },
    {
     "name": "stdout",
     "output_type": "stream",
     "text": [
      "{'Location': 'Mumbai', 'Year': '2018', 'Kilometers_Driven': '9000', 'Fuel_Type': 'Petrol', 'Transmission': 'Automatic', 'Engine': '998.0 CC', 'Power': '58.16 bhp', 'Company_name': 'BMW', 'Mileage': '13.22', 'price': '54'}\n",
      "  Location  Year  Kilometers_Driven  Fuel_Type  Transmission  Engine  Power  \\\n",
      "0   Mumbai  2018               9000          3             0   998.0  58.16   \n",
      "\n",
      "  Company_name Mileage  price Eng_unit Pow_unit  Mil_in_kmpl  \n",
      "0          BMW   13.22   54.0       CC      bhp        13.22  \n",
      "   Location  Year  Kilometers_Driven  Fuel_Type  Transmission  Engine  Power  \\\n",
      "0         0  2018               9000          3             0   998.0  58.16   \n",
      "\n",
      "   Company_name  Mileage  price  Eng_unit  Pow_unit  Mil_in_kmpl  \n",
      "0             0        0   54.0         0         0        13.22  \n"
     ]
    },
    {
     "name": "stderr",
     "output_type": "stream",
     "text": [
      "127.0.0.1 - - [14/Aug/2023 20:45:37] \"OPTIONS /predict HTTP/1.1\" 200 -\n",
      "127.0.0.1 - - [14/Aug/2023 20:45:37] \"POST /predict HTTP/1.1\" 200 -\n"
     ]
    },
    {
     "name": "stdout",
     "output_type": "stream",
     "text": [
      "{'Location': 'Mumbai', 'Year': '2020', 'Kilometers_Driven': '9000', 'Fuel_Type': 'Petrol', 'Transmission': 'Automatic', 'Engine': '998.0 CC', 'Power': '58.16 bhp', 'Company_name': 'BMW', 'Mileage': '13.22', 'price': '54'}\n",
      "  Location  Year  Kilometers_Driven  Fuel_Type  Transmission  Engine  Power  \\\n",
      "0   Mumbai  2020               9000          3             0   998.0  58.16   \n",
      "\n",
      "  Company_name Mileage  price Eng_unit Pow_unit  Mil_in_kmpl  \n",
      "0          BMW   13.22   54.0       CC      bhp        13.22  \n",
      "   Location  Year  Kilometers_Driven  Fuel_Type  Transmission  Engine  Power  \\\n",
      "0         0  2020               9000          3             0   998.0  58.16   \n",
      "\n",
      "   Company_name  Mileage  price  Eng_unit  Pow_unit  Mil_in_kmpl  \n",
      "0             0        0   54.0         0         0        13.22  \n"
     ]
    },
    {
     "name": "stderr",
     "output_type": "stream",
     "text": [
      "127.0.0.1 - - [14/Aug/2023 20:45:48] \"OPTIONS /predict HTTP/1.1\" 200 -\n",
      "127.0.0.1 - - [14/Aug/2023 20:45:48] \"POST /predict HTTP/1.1\" 200 -\n"
     ]
    },
    {
     "name": "stdout",
     "output_type": "stream",
     "text": [
      "{'Location': 'Mumbai', 'Year': '2020', 'Kilometers_Driven': '5000', 'Fuel_Type': 'Petrol', 'Transmission': 'Automatic', 'Engine': '998.0 CC', 'Power': '58.16 bhp', 'Company_name': 'BMW', 'Mileage': '13.22', 'price': '54'}\n",
      "  Location  Year  Kilometers_Driven  Fuel_Type  Transmission  Engine  Power  \\\n",
      "0   Mumbai  2020               5000          3             0   998.0  58.16   \n",
      "\n",
      "  Company_name Mileage  price Eng_unit Pow_unit  Mil_in_kmpl  \n",
      "0          BMW   13.22   54.0       CC      bhp        13.22  \n",
      "   Location  Year  Kilometers_Driven  Fuel_Type  Transmission  Engine  Power  \\\n",
      "0         0  2020               5000          3             0   998.0  58.16   \n",
      "\n",
      "   Company_name  Mileage  price  Eng_unit  Pow_unit  Mil_in_kmpl  \n",
      "0             0        0   54.0         0         0        13.22  \n"
     ]
    },
    {
     "name": "stderr",
     "output_type": "stream",
     "text": [
      "127.0.0.1 - - [14/Aug/2023 20:45:58] \"OPTIONS /predict HTTP/1.1\" 200 -\n",
      "127.0.0.1 - - [14/Aug/2023 20:45:58] \"POST /predict HTTP/1.1\" 200 -\n"
     ]
    },
    {
     "name": "stdout",
     "output_type": "stream",
     "text": [
      "{'Location': 'Mumbai', 'Year': '2020', 'Kilometers_Driven': '5000', 'Fuel_Type': 'Petrol', 'Transmission': 'Automatic', 'Engine': '1100.0 CC', 'Power': '58.16 bhp', 'Company_name': 'BMW', 'Mileage': '13.22', 'price': '54'}\n",
      "  Location  Year  Kilometers_Driven  Fuel_Type  Transmission  Engine  Power  \\\n",
      "0   Mumbai  2020               5000          3             0  1100.0  58.16   \n",
      "\n",
      "  Company_name Mileage  price Eng_unit Pow_unit  Mil_in_kmpl  \n",
      "0          BMW   13.22   54.0       CC      bhp        13.22  \n",
      "   Location  Year  Kilometers_Driven  Fuel_Type  Transmission  Engine  Power  \\\n",
      "0         0  2020               5000          3             0  1100.0  58.16   \n",
      "\n",
      "   Company_name  Mileage  price  Eng_unit  Pow_unit  Mil_in_kmpl  \n",
      "0             0        0   54.0         0         0        13.22  \n"
     ]
    },
    {
     "name": "stderr",
     "output_type": "stream",
     "text": [
      "127.0.0.1 - - [14/Aug/2023 20:46:11] \"OPTIONS /predict HTTP/1.1\" 200 -\n",
      "127.0.0.1 - - [14/Aug/2023 20:46:11] \"POST /predict HTTP/1.1\" 200 -\n"
     ]
    },
    {
     "name": "stdout",
     "output_type": "stream",
     "text": [
      "{'Location': 'Mumbai', 'Year': '2020', 'Kilometers_Driven': '5000', 'Fuel_Type': 'Petrol', 'Transmission': 'Automatic', 'Engine': '1100.0 CC', 'Power': '58.16 bhp', 'Company_name': 'BMW', 'Mileage': '13.22', 'price': '50'}\n",
      "  Location  Year  Kilometers_Driven  Fuel_Type  Transmission  Engine  Power  \\\n",
      "0   Mumbai  2020               5000          3             0  1100.0  58.16   \n",
      "\n",
      "  Company_name Mileage  price Eng_unit Pow_unit  Mil_in_kmpl  \n",
      "0          BMW   13.22   50.0       CC      bhp        13.22  \n",
      "   Location  Year  Kilometers_Driven  Fuel_Type  Transmission  Engine  Power  \\\n",
      "0         0  2020               5000          3             0  1100.0  58.16   \n",
      "\n",
      "   Company_name  Mileage  price  Eng_unit  Pow_unit  Mil_in_kmpl  \n",
      "0             0        0   50.0         0         0        13.22  \n"
     ]
    },
    {
     "name": "stderr",
     "output_type": "stream",
     "text": [
      "127.0.0.1 - - [14/Aug/2023 20:46:20] \"OPTIONS /predict HTTP/1.1\" 200 -\n",
      "127.0.0.1 - - [14/Aug/2023 20:46:20] \"POST /predict HTTP/1.1\" 200 -\n"
     ]
    },
    {
     "name": "stdout",
     "output_type": "stream",
     "text": [
      "{'Location': 'Mumbai', 'Year': '2020', 'Kilometers_Driven': '5000', 'Fuel_Type': 'Petrol', 'Transmission': 'Automatic', 'Engine': '1100.0 CC', 'Power': '98.16 bhp', 'Company_name': 'BMW', 'Mileage': '13.22', 'price': '50'}\n",
      "  Location  Year  Kilometers_Driven  Fuel_Type  Transmission  Engine  Power  \\\n",
      "0   Mumbai  2020               5000          3             0  1100.0  98.16   \n",
      "\n",
      "  Company_name Mileage  price Eng_unit Pow_unit  Mil_in_kmpl  \n",
      "0          BMW   13.22   50.0       CC      bhp        13.22  \n",
      "   Location  Year  Kilometers_Driven  Fuel_Type  Transmission  Engine  Power  \\\n",
      "0         0  2020               5000          3             0  1100.0  98.16   \n",
      "\n",
      "   Company_name  Mileage  price  Eng_unit  Pow_unit  Mil_in_kmpl  \n",
      "0             0        0   50.0         0         0        13.22  \n"
     ]
    },
    {
     "name": "stderr",
     "output_type": "stream",
     "text": [
      "127.0.0.1 - - [14/Aug/2023 20:46:36] \"OPTIONS /predict HTTP/1.1\" 200 -\n",
      "127.0.0.1 - - [14/Aug/2023 20:46:36] \"POST /predict HTTP/1.1\" 200 -\n"
     ]
    },
    {
     "name": "stdout",
     "output_type": "stream",
     "text": [
      "{'Location': 'Mumbai', 'Year': '2018', 'Kilometers_Driven': '5000', 'Fuel_Type': 'Petrol', 'Transmission': 'Automatic', 'Engine': '1100.0 CC', 'Power': '98.16 bhp', 'Company_name': 'BMW', 'Mileage': '13.22', 'price': '50'}\n",
      "  Location  Year  Kilometers_Driven  Fuel_Type  Transmission  Engine  Power  \\\n",
      "0   Mumbai  2018               5000          3             0  1100.0  98.16   \n",
      "\n",
      "  Company_name Mileage  price Eng_unit Pow_unit  Mil_in_kmpl  \n",
      "0          BMW   13.22   50.0       CC      bhp        13.22  \n",
      "   Location  Year  Kilometers_Driven  Fuel_Type  Transmission  Engine  Power  \\\n",
      "0         0  2018               5000          3             0  1100.0  98.16   \n",
      "\n",
      "   Company_name  Mileage  price  Eng_unit  Pow_unit  Mil_in_kmpl  \n",
      "0             0        0   50.0         0         0        13.22  \n"
     ]
    },
    {
     "name": "stderr",
     "output_type": "stream",
     "text": [
      "127.0.0.1 - - [14/Aug/2023 20:47:59] \"OPTIONS /predict HTTP/1.1\" 200 -\n",
      "127.0.0.1 - - [14/Aug/2023 20:47:59] \"POST /predict HTTP/1.1\" 200 -\n"
     ]
    },
    {
     "name": "stdout",
     "output_type": "stream",
     "text": [
      "{'Location': 'Mumbai', 'Year': '2018', 'Kilometers_Driven': '5000', 'Fuel_Type': 'Petrol', 'Transmission': 'Automatic', 'Engine': '1100.0 CC', 'Power': '98.16 bhp', 'Company_name': 'BMW', 'Mileage': '13.22', 'price': '50'}\n",
      "  Location  Year  Kilometers_Driven  Fuel_Type  Transmission  Engine  Power  \\\n",
      "0   Mumbai  2018               5000          3             0  1100.0  98.16   \n",
      "\n",
      "  Company_name Mileage  price Eng_unit Pow_unit  Mil_in_kmpl  \n",
      "0          BMW   13.22   50.0       CC      bhp        13.22  \n",
      "   Location  Year  Kilometers_Driven  Fuel_Type  Transmission  Engine  Power  \\\n",
      "0         0  2018               5000          3             0  1100.0  98.16   \n",
      "\n",
      "   Company_name  Mileage  price  Eng_unit  Pow_unit  Mil_in_kmpl  \n",
      "0             0        0   50.0         0         0        13.22  \n"
     ]
    },
    {
     "name": "stderr",
     "output_type": "stream",
     "text": [
      "127.0.0.1 - - [14/Aug/2023 20:49:22] \"OPTIONS /predict HTTP/1.1\" 200 -\n",
      "127.0.0.1 - - [14/Aug/2023 20:49:22] \"POST /predict HTTP/1.1\" 200 -\n"
     ]
    },
    {
     "name": "stdout",
     "output_type": "stream",
     "text": [
      "{'Location': 'Mumbai', 'Year': '2018', 'Kilometers_Driven': '5000', 'Fuel_Type': 'Petrol', 'Transmission': 'Automatic', 'Engine': '1000 CC', 'Power': '90.00 bhp', 'Company_name': 'BMW', 'Mileage': '13', 'price': '50'}\n",
      "  Location  Year  Kilometers_Driven  Fuel_Type  Transmission  Engine  Power  \\\n",
      "0   Mumbai  2018               5000          3             0  1000.0   90.0   \n",
      "\n",
      "  Company_name Mileage  price Eng_unit Pow_unit  Mil_in_kmpl  \n",
      "0          BMW      13   50.0       CC      bhp         13.0  \n",
      "   Location  Year  Kilometers_Driven  Fuel_Type  Transmission  Engine  Power  \\\n",
      "0         0  2018               5000          3             0  1000.0   90.0   \n",
      "\n",
      "   Company_name  Mileage  price  Eng_unit  Pow_unit  Mil_in_kmpl  \n",
      "0             0        0   50.0         0         0         13.0  \n"
     ]
    },
    {
     "name": "stderr",
     "output_type": "stream",
     "text": [
      "127.0.0.1 - - [14/Aug/2023 20:50:01] \"OPTIONS /predict HTTP/1.1\" 200 -\n",
      "127.0.0.1 - - [14/Aug/2023 20:50:01] \"POST /predict HTTP/1.1\" 200 -\n"
     ]
    },
    {
     "name": "stdout",
     "output_type": "stream",
     "text": [
      "{'Location': 'Mumbai', 'Year': '2010', 'Kilometers_Driven': '75000', 'Fuel_Type': 'Petrol', 'Transmission': 'Manual', 'Engine': '700 CC', 'Power': '58.00 bhp', 'Company_name': 'Maruti', 'Mileage': '32', 'price': '12'}\n",
      "  Location  Year  Kilometers_Driven  Fuel_Type  Transmission  Engine  Power  \\\n",
      "0   Mumbai  2010              75000          3             1   700.0   58.0   \n",
      "\n",
      "  Company_name Mileage  price Eng_unit Pow_unit  Mil_in_kmpl  \n",
      "0       Maruti      32   12.0       CC      bhp         32.0  \n",
      "   Location  Year  Kilometers_Driven  Fuel_Type  Transmission  Engine  Power  \\\n",
      "0         0  2010              75000          3             1   700.0   58.0   \n",
      "\n",
      "   Company_name  Mileage  price  Eng_unit  Pow_unit  Mil_in_kmpl  \n",
      "0             0        0   12.0         0         0         32.0  \n"
     ]
    },
    {
     "name": "stderr",
     "output_type": "stream",
     "text": [
      "127.0.0.1 - - [14/Aug/2023 20:55:31] \"OPTIONS /predict HTTP/1.1\" 200 -\n",
      "127.0.0.1 - - [14/Aug/2023 20:55:31] \"POST /predict HTTP/1.1\" 200 -\n"
     ]
    },
    {
     "name": "stdout",
     "output_type": "stream",
     "text": [
      "{'Location': 'Mumbai', 'Year': '2010', 'Kilometers_Driven': '72000', 'Fuel_Type': 'Petrol', 'Transmission': 'Manual', 'Engine': '998.0 CC', 'Power': '58.16 bhp', 'Company_name': 'Maruti', 'Mileage': '33.22', 'price': '12'}\n",
      "  Location  Year  Kilometers_Driven  Fuel_Type  Transmission  Engine  Power  \\\n",
      "0   Mumbai  2010              72000          3             1   998.0  58.16   \n",
      "\n",
      "  Company_name Mileage  price Eng_unit Pow_unit  Mil_in_kmpl  \n",
      "0       Maruti   33.22   12.0       CC      bhp        33.22  \n",
      "   Location  Year  Kilometers_Driven  Fuel_Type  Transmission  Engine  Power  \\\n",
      "0         0  2010              72000          3             1   998.0  58.16   \n",
      "\n",
      "   Company_name  Mileage  price  Eng_unit  Pow_unit  Mil_in_kmpl  \n",
      "0             0        0   12.0         0         0        33.22  \n"
     ]
    },
    {
     "name": "stderr",
     "output_type": "stream",
     "text": [
      "127.0.0.1 - - [14/Aug/2023 20:56:06] \"OPTIONS /predict HTTP/1.1\" 200 -\n",
      "127.0.0.1 - - [14/Aug/2023 20:56:06] \"POST /predict HTTP/1.1\" 200 -\n"
     ]
    },
    {
     "name": "stdout",
     "output_type": "stream",
     "text": [
      "{'Location': 'Mumbai', 'Year': '2018', 'Kilometers_Driven': '5000', 'Fuel_Type': 'Petrol', 'Transmission': 'Automatic', 'Engine': '1100.0 CC', 'Power': '100.16 bhp', 'Company_name': 'BMW', 'Mileage': '13.22', 'price': '46'}\n",
      "  Location  Year  Kilometers_Driven  Fuel_Type  Transmission  Engine   Power  \\\n",
      "0   Mumbai  2018               5000          3             0  1100.0  100.16   \n",
      "\n",
      "  Company_name Mileage  price Eng_unit Pow_unit  Mil_in_kmpl  \n",
      "0          BMW   13.22   46.0       CC      bhp        13.22  \n",
      "   Location  Year  Kilometers_Driven  Fuel_Type  Transmission  Engine   Power  \\\n",
      "0         0  2018               5000          3             0  1100.0  100.16   \n",
      "\n",
      "   Company_name  Mileage  price  Eng_unit  Pow_unit  Mil_in_kmpl  \n",
      "0             0        0   46.0         0         0        13.22  \n"
     ]
    }
   ],
   "source": [
    "from flask import Flask,jsonify, request\n",
    "from flask_cors import CORS, cross_origin\n",
    "import SmartModel\n",
    "import pandas as pd\n",
    "app = Flask(__name__)\n",
    "CORS(app)\n",
    "app.config['CORS_HEADERS'] = 'application/json'\n",
    "\n",
    "@app.route(\"/predict\", methods=[\"POST\"])\n",
    "@cross_origin(supports_credentials=True)\n",
    "def predictOap():\n",
    "    data = request.get_json()\n",
    "    print(data)\n",
    "    cust_df=pd.DataFrame([data])\n",
    "    return jsonify(SmartModel.predict(cust_df).tolist())\n",
    "\n",
    "if __name__ == '__main__':\n",
    "    app.run(debug=True,use_reloader=False)"
   ]
  },
  {
   "cell_type": "code",
   "execution_count": null,
   "id": "cdc5d3c6",
   "metadata": {},
   "outputs": [],
   "source": []
  }
 ],
 "metadata": {
  "kernelspec": {
   "display_name": "Python 3 (ipykernel)",
   "language": "python",
   "name": "python3"
  },
  "language_info": {
   "codemirror_mode": {
    "name": "ipython",
    "version": 3
   },
   "file_extension": ".py",
   "mimetype": "text/x-python",
   "name": "python",
   "nbconvert_exporter": "python",
   "pygments_lexer": "ipython3",
   "version": "3.9.12"
  }
 },
 "nbformat": 4,
 "nbformat_minor": 5
}
